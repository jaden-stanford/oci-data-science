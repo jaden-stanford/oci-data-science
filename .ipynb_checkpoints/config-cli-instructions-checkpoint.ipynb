{
 "cells": [
  {
   "cell_type": "markdown",
   "id": "6d9ac2e2",
   "metadata": {},
   "source": [
    "### Creating a Config File for Use with OCI CLI\n"
   ]
  },
  {
   "cell_type": "markdown",
   "id": "0ac5c030",
   "metadata": {},
   "source": [
    "A configuration file is needed to utilize OCI SDKs and CLI. This file contains information like user credentials and tenancy OCID. This file is an example of how to create a configuration file to use when accessing files from Oracle Open Data using CLI to access object storage. "
   ]
  }
 ],
 "metadata": {
  "kernelspec": {
   "display_name": "Python 3",
   "language": "python",
   "name": "python3"
  },
  "language_info": {
   "codemirror_mode": {
    "name": "ipython",
    "version": 3
   },
   "file_extension": ".py",
   "mimetype": "text/x-python",
   "name": "python",
   "nbconvert_exporter": "python",
   "pygments_lexer": "ipython3",
   "version": "3.7.10"
  }
 },
 "nbformat": 4,
 "nbformat_minor": 5
}

{
 "cells": [
  {
   "cell_type": "markdown",
   "id": "9ac181b0",
   "metadata": {},
   "source": [
    "# NCBI Genomes - Oracle Open Data\n",
    "\n",
    "\n",
    "The NCBI Genomes data repository contains sequence data for all single organism genome assemblies contained in [NCBI's Assembly resource](www.ncbi.nlm.nih.gov/assembly/). Please note that as of August 2022, Oracle Open Data does not include data files for refseq, so those will not be accesssible through Object Storage. They can still be downloaded by FTP from the NCBI.\n",
    "\n",
    "The data is divided into 3 main repositories: genbank, refseq, and all.\n",
    "\n",
    "* **Genbank** - [GenBank](https://www.ncbi.nlm.nih.gov/genbank/) is the NIH genetic sequence database, a collection of all publicly available DNA sequences. It includes primary submissions of assembled genome sequence and associated annotation data. This collection includes genome sequence data for a larger number of organisms than RefSeq directory, but some assemblies are unannotated. \n",
    "\n",
    "* **Refseq** - [RefSeq](https://www.ncbi.nlm.nih.gov/refseq/about/)Includes assembled genome sequence and RefSeq annotation data. All prokaryotic and eukaryotic genomes in this directory have annotation. The annotation data is either collected from NCBI annotation pipeines or the GenBank submission. This collection includes fewer organisms than GenBank, because not all genome assemblies are selected for the RefSeq project. \n",
    "\n",
    "* **All** - The combination of both GenBank and RefSeq assemblies. \n",
    "\n",
    "All files are available by anonymous file transfer protocol (FTP), please see [FTP FAQ page](https://www.ncbi.nlm.nih.gov/genome/doc/ftpfaq/). For example, to download the feature table file for the bacteria *Bacillus thuringiensis*, use `wget` followed by the ftp link as follows: `wget ftp://ftp.ncbi.nlm.nih.gov/genomes/genbank/bacteria/Bacillus_thuringiensis/all_assembly_versions/GCA_000008505.1_ASM850v1_feature_table.txt.gz` in the terminal.\n",
    "\n",
    "\n",
    "After division of the files into the 3 main repositories (all, genbank refseq), the files are further organized under a series of different sub-directories. Subdirectories for genbank include:\n",
    "\n",
    "    a. archaea\n",
    "    b. bacteria\n",
    "    c. fungi\n",
    "    d. invertebrate\n",
    "    e. metagenomes\n",
    "    f. other -  this directory includes synthetic genomes\n",
    "    g. plant\n",
    "    h. protozoa\n",
    "    i. vertebrate_mammalian\n",
    "    j. vertebrate_other\n",
    "    k. viral\n",
    "    \n",
    " \n",
    "The sub-directories for refseq are as follows:\n",
    "\n",
    "    a. archaea\n",
    "    b. bacteria\n",
    "    c. fungi\n",
    "    d. invertebrate\n",
    "    e. plant\n",
    "    f. protozoa\n",
    "    g. vertebrate_mammalian\n",
    "    h. vertebrate_other \n",
    "    i. viral\n",
    "    j. mitochondrion \n",
    "    k. plasmid     \n",
    "    l. plastid \n",
    "    \n",
    "Data are further organized within each of the above directories using the species binomial name. For example, *E. coli* files under genbank would have the file directory 'ftp://ftp.ncbi.nlm.nih.gov/genomes/genbank/bacteria/Escherichia_coli/' , while files for humans under refseq would have the file directory 'ftp://ftp.ncbi.nlm.nih.gov/genomes/refseq/vertebrate_mammalian/Homo_sapiens/' .\n",
    "\n"
   ]
  },
  {
   "cell_type": "markdown",
   "id": "1f3e2363",
   "metadata": {},
   "source": [
    "## Getting all Files for An Organism "
   ]
  },
  {
   "cell_type": "markdown",
   "id": "b9e9332f",
   "metadata": {},
   "source": [
    "Because there are millions of files in this repository, parsing through it manually to find files related to a specific organism would be difficult. The first function we will use will parse through the file names and identify those related to a specific organism. For this, we will be using the Oracle Command-Line-Interface (CLI). Please note that using the CLI requires that you have an oci config file set up and configured. You will also need the repository of choice (genbank, refseq, or all), sub-directory (from the lettered lists above), and species name (e.g. *Bacillus thuringiensis*). "
   ]
  },
  {
   "cell_type": "code",
   "execution_count": 34,
   "id": "04184f0b",
   "metadata": {},
   "outputs": [],
   "source": [
    "#import modules\n",
    "import oci\n",
    "\n",
    "# Initialize service client with default config file\n",
    "config = oci.config.from_file()\n",
    "object_storage_client = oci.object_storage.ObjectStorageClient(config)\n",
    "\n",
    "list_files = []\n",
    "\n",
    "# function to list files, takes name of repo, subdir, and species \n",
    "def list_files_for_organism(repository: str, subdir:str, species:str ) :\n",
    "    myprefix = repository + \"/\" + subdir + \"/\" + species + \"/\" \n",
    "    \n",
    "    # print prefix so user can check if input is correct\n",
    "    print(myprefix)\n",
    "    \n",
    "    # using cli \n",
    "    list_objects_response = object_storage_client.list_objects(\n",
    "        namespace_name=\"idcxvbiyd8fn\",  # namespace for ncbi_genomes\n",
    "        bucket_name=\"ncbi_genomes\",  # bucket name\n",
    "        fields = \"name\",\n",
    "        prefix = myprefix\n",
    "    )\n",
    "    \n",
    "    list_files = []\n",
    "    \n",
    "    # Get the data from response, insert file names into list\n",
    "    for obj in list_objects_response.data.objects:\n",
    "        list_files.append(obj.name)\n",
    "        \n",
    "    #remore redundant file prefix\n",
    "    length = len(myprefix)\n",
    "    for count, name in enumerate(list_files):\n",
    "        list_files[count] = name[length:]\n",
    "\n",
    "    print('\\n')\n",
    "    print(\"The following is a list of all available files for: \" + myprefix)\n",
    "    print('\\n')\n",
    "    print(*list_files, sep = '\\n')\n",
    "        \n",
    "    "
   ]
  },
  {
   "cell_type": "markdown",
   "id": "fa7b9471",
   "metadata": {},
   "source": [
    "Now that the function to list files is written, let's test for a couple common bacterial strains first:"
   ]
  },
  {
   "cell_type": "code",
   "execution_count": null,
   "id": "2b535201",
   "metadata": {},
   "outputs": [],
   "source": [
    "# Running a test for a couple strans of bacteria\n",
    "list_files_for_organism(\"genbank\", \"bacteria\", \"Escherichia_coli\")\n",
    "list_files_for_organism(\"genbank\", \"bacteria\", \"Listeria_monocytogenes\")"
   ]
  },
  {
   "cell_type": "markdown",
   "id": "5eede411",
   "metadata": {},
   "source": [
    "Next, testing some other species types:"
   ]
  },
  {
   "cell_type": "code",
   "execution_count": null,
   "id": "1bc0eb1f",
   "metadata": {},
   "outputs": [],
   "source": []
  }
 ],
 "metadata": {
  "kernelspec": {
   "display_name": "Python [conda env:root] *",
   "language": "python",
   "name": "conda-root-py"
  },
  "language_info": {
   "codemirror_mode": {
    "name": "ipython",
    "version": 3
   },
   "file_extension": ".py",
   "mimetype": "text/x-python",
   "name": "python",
   "nbconvert_exporter": "python",
   "pygments_lexer": "ipython3",
   "version": "3.7.10"
  }
 },
 "nbformat": 4,
 "nbformat_minor": 5
}

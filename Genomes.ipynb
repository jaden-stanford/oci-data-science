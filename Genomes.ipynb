{
 "cells": [
  {
   "cell_type": "markdown",
   "id": "2b984219",
   "metadata": {},
   "source": [
    "## NCBI Genomes - Oracle Open Data\n",
    "\n",
    "** Fix because only all and genbank\n",
    "\n",
    "This data repository contains sequence data for all single organism genome assemblies contained in [NCBI's Assembly resource](www.ncbi.nlm.nih.gov/assembly/).\n",
    "\n",
    "The data is divided into 3 main repositories: genbank, refseq, and all.\n",
    "\n",
    "* **Genbank** - [GenBank](https://www.ncbi.nlm.nih.gov/genbank/) is the NIH genetic sequence database, a collection of all publicly available DNA sequences. It includes primary submissions of assembled genome sequence and associated annotation data. This collection includes genome sequence data for a larger number of organisms than RefSeq directory, but some assemblies are unannotated. \n",
    "\n",
    "* **Refseq** - [RefSeq](https://www.ncbi.nlm.nih.gov/refseq/about/)Includes assembled genome sequence and RefSeq annotation data. All prokaryotic and eukaryotic genomes in this directory have annotation. The annotation data is either collected from NCBI annotation pipeines or the GenBank submission. This collection includes fewer organisms than GenBank, because not all genome assemblies are selected for the RefSeq project. \n",
    "\n",
    "* **All** - The combination of both GenBank and RefSeq assemblies. \n",
    "\n",
    "All files are available by anonymous file transfer protocol (FTP), please see [FTP FAQ page](https://www.ncbi.nlm.nih.gov/genome/doc/ftpfaq/). The NCBI Genomes data repository contains a vast amount of data, and parsing through it manually to find files related to a specific organism would be difficult. Instead, we can write functions to parse through the file names and identify those related to a specific organism.\n",
    "\n",
    "After division of the files into the 3 main repositories (all, genbank refseq), the files are further organized under a series of different sub-directories. Subdirectories for genbank include:\n",
    "\n",
    "    a. archaea\n",
    "    b. bacteria\n",
    "    c. fungi\n",
    "    d. invertebrate\n",
    "    e. metagenomes\n",
    "    f. other -  this directory includes synthetic genomes\n",
    "    g. plant\n",
    "    h. protozoa\n",
    "    i. vertebrate_mammalian\n",
    "    j. vertebrate_other\n",
    "    k. viral\n",
    "    \n",
    " \n",
    "The sub-directories for refseq are as follows:\n",
    "\n",
    "    a. archaea\n",
    "    b. bacteria\n",
    "    c. fungi\n",
    "    d. invertebrate\n",
    "    e. plant\n",
    "    f. protozoa\n",
    "    g. vertebrate_mammalian\n",
    "    h. vertebrate_other \n",
    "    i. viral\n",
    "    j. mitochondrion \n",
    "    k. plasmid     \n",
    "    l. plastid \n",
    "    \n",
    "Data are further organized within each of the above directories using the species binomial name. For example, *E. coli* files under genbank would have the file directory 'ftp://ftp.ncbi.nlm.nih.gov/genomes/genbank/bacteria/Escherichia_coli/' , while files for humans under refseq would have the file directory 'ftp://ftp.ncbi.nlm.nih.gov/genomes/refseq/vertebrate_mammalian/Homo_sapiens/' .\n",
    "\n",
    "Hierarchies beyond this initial division \n"
   ]
  },
  {
   "cell_type": "code",
   "execution_count": null,
   "id": "cc4d6bde",
   "metadata": {},
   "outputs": [],
   "source": []
  },
  {
   "cell_type": "code",
   "execution_count": null,
   "id": "8f01e287",
   "metadata": {},
   "outputs": [],
   "source": [
    "def list_files_genbank(subdir:str, species:str ) -> list:\n",
    "    prefix = \"https://objectstorage.us-ashburn-1.oraclecloud.com/n/idcxvbiyd8fn/b/ncbi_genomes/o/genbank/\"\n",
    "    prefix = prefix + subdir + \"/\" + species + *\n",
    " \n",
    "    \n",
    "    "
   ]
  },
  {
   "cell_type": "code",
   "execution_count": 4,
   "id": "26ef3951",
   "metadata": {},
   "outputs": [
    {
     "data": {
      "text/plain": [
       "201"
      ]
     },
     "execution_count": 4,
     "metadata": {},
     "output_type": "execute_result"
    }
   ],
   "source": [
    "import pandas as pd\n",
    "import requests\n",
    "\n",
    "url = 'https://objectstorage.us-ashburn-1.oraclecloud.com/n/idcxvbiyd8fn/b/ncbi_genomes/o/genbank/bacteria/Bacillus_thuringiensis/all_assembly_versions/GCA_000008505.1_ASM850v1_feature_table.txt.gz'\n",
    "r = requests.get(url, allow_redirects=True)\n",
    "open('bacillus_feature_table.txt', 'wb').write(r.content)"
   ]
  },
  {
   "cell_type": "code",
   "execution_count": 6,
   "id": "2dc322bd",
   "metadata": {},
   "outputs": [
    {
     "name": "stdout",
     "output_type": "stream",
     "text": [
      "--2022-08-04 18:30:55--  ftp://ftp.ncbi.nlm.nih.gov/genomes/genbank/bacteria/Bacillus_thuringiensis/all_assembly_versions/GCA_000008505.1_ASM850v1_feature_table.txt.gz\n",
      "           => ‘GCA_000008505.1_ASM850v1_feature_table.txt.gz’\n",
      "Resolving ftp.ncbi.nlm.nih.gov (ftp.ncbi.nlm.nih.gov)... 130.14.250.7, 130.14.250.10, 2607:f220:41f:250::229, ...\n",
      "Connecting to ftp.ncbi.nlm.nih.gov (ftp.ncbi.nlm.nih.gov)|130.14.250.7|:21... connected.\n",
      "Logging in as anonymous ... Logged in!\n",
      "==> SYST ... done.    ==> PWD ... done.\n",
      "==> TYPE I ... done.  ==> CWD (1) /genomes/genbank/bacteria/Bacillus_thuringiensis/all_assembly_versions ... done.\n",
      "==> SIZE GCA_000008505.1_ASM850v1_feature_table.txt.gz ... done.\n",
      "==> PASV ... done.    ==> RETR GCA_000008505.1_ASM850v1_feature_table.txt.gz ... \n",
      "No such file ‘GCA_000008505.1_ASM850v1_feature_table.txt.gz’.\n",
      "\n"
     ]
    }
   ],
   "source": [
    "!wget ftp://ftp.ncbi.nlm.nih.gov/genomes/genbank/bacteria/Bacillus_thuringiensis/all_assembly_versions/GCA_000008505.1_ASM850v1_feature_table.txt.gz"
   ]
  },
  {
   "cell_type": "code",
   "execution_count": null,
   "id": "4d69b083",
   "metadata": {},
   "outputs": [],
   "source": [
    "import oci\n",
    "config = oci.config.from_file()\n",
    "object_storage_client = oci.object_storage.ObjectStorageClient(config)\n",
    "\n",
    "list_objects_response = object_storage_client.list_objects(\n",
    "    namespace_name=\"EXAMPLE-namespaceName-Value\",\n",
    "    bucket_name=\"EXAMPLE-bucketName-Value\",\n",
    "    prefix=\"EXAMPLE-prefix-Value\",\n",
    "    start=\"EXAMPLE-start-Value\",\n",
    "    end=\"EXAMPLE-end-Value\",\n",
    "    limit=255,\n",
    "    delimiter=\"EXAMPLE-delimiter-Value\",\n",
    "    fields=\"archivalState\",\n",
    "    opc_client_request_id=\"ocid1.test.oc1..<unique_ID>EXAMPLE-opcClientRequestId-Value\",\n",
    "    start_after=\"EXAMPLE-startAfter-Value\")\n",
    "\n",
    "print(list_objects_response.data)\n",
    "\n"
   ]
  },
  {
   "cell_type": "code",
   "execution_count": 8,
   "id": "79a79f44",
   "metadata": {},
   "outputs": [
    {
     "ename": "SyntaxError",
     "evalue": "invalid syntax (<ipython-input-8-9995a22014b0>, line 1)",
     "output_type": "error",
     "traceback": [
      "\u001b[0;36m  File \u001b[0;32m\"<ipython-input-8-9995a22014b0>\"\u001b[0;36m, line \u001b[0;32m1\u001b[0m\n\u001b[0;31m    print(https://objectstorage.us-ashburn-1.oraclecloud.com/n/idcxvbiyd8fn/b/ncbi_genomes/o/)\u001b[0m\n\u001b[0m               ^\u001b[0m\n\u001b[0;31mSyntaxError\u001b[0m\u001b[0;31m:\u001b[0m invalid syntax\n"
     ]
    }
   ],
   "source": [
    "print(https://objectstorage.us-ashburn-1.oraclecloud.com/n/idcxvbiyd8fn/b/ncbi_genomes/o/)"
   ]
  },
  {
   "cell_type": "code",
   "execution_count": null,
   "id": "fae754d0",
   "metadata": {},
   "outputs": [],
   "source": [
    "import oci\n",
    "\n",
    "!oci os object list --bucket-name ncbi_genomes --prefix 'genbank/bacteria/Escherichia_coli/'"
   ]
  },
  {
   "cell_type": "code",
   "execution_count": null,
   "id": "88e6752d",
   "metadata": {},
   "outputs": [],
   "source": [
    "\n"
   ]
  },
  {
   "cell_type": "code",
   "execution_count": null,
   "id": "0f4aacbb",
   "metadata": {},
   "outputs": [],
   "source": []
  }
 ],
 "metadata": {
  "kernelspec": {
   "display_name": "Python 3",
   "language": "python",
   "name": "python3"
  },
  "language_info": {
   "codemirror_mode": {
    "name": "ipython",
    "version": 3
   },
   "file_extension": ".py",
   "mimetype": "text/x-python",
   "name": "python",
   "nbconvert_exporter": "python",
   "pygments_lexer": "ipython3",
   "version": "3.7.10"
  }
 },
 "nbformat": 4,
 "nbformat_minor": 5
}
